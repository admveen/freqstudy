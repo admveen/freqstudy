{
 "cells": [
  {
   "cell_type": "markdown",
   "metadata": {},
   "source": [
    "# Frequentist Inference Case Study - Part A "
   ]
  },
  {
   "cell_type": "markdown",
   "metadata": {},
   "source": [
    "## 1. Learning objectives"
   ]
  },
  {
   "cell_type": "markdown",
   "metadata": {},
   "source": [
    "Welcome to part A of the Frequentist inference case study! The purpose of this case study is to help you apply the concepts associated with Frequentist inference in Python. Frequentist inference is the process of deriving conclusions about an underlying distribution via the observation of data. In particular, you'll practice writing Python code to apply the following statistical concepts: \n",
    "* the _z_-statistic\n",
    "* the _t_-statistic\n",
    "* the difference and relationship between the two\n",
    "* the Central Limit Theorem, including its assumptions and consequences\n",
    "* how to estimate the population mean and standard deviation from a sample\n",
    "* the concept of a sampling distribution of a test statistic, particularly for the mean\n",
    "* how to combine these concepts to calculate a confidence interval"
   ]
  },
  {
   "cell_type": "markdown",
   "metadata": {},
   "source": [
    "## Prerequisites"
   ]
  },
  {
   "cell_type": "markdown",
   "metadata": {},
   "source": [
    "To be able to complete this notebook, you are expected to have a basic understanding of:\n",
    "* what a random variable is (p.400 of Professor Spiegelhalter's *The Art of Statistics, hereinafter AoS*)\n",
    "* what a population, and a population distribution, are (p. 397 of *AoS*)\n",
    "* a high-level sense of what the normal distribution is (p. 394 of *AoS*)\n",
    "* what the t-statistic is (p. 275 of *AoS*)\n",
    "\n",
    "Happily, these should all be concepts with which you are reasonably familiar after having read ten chapters of Professor Spiegelhalter's book, *The Art of Statistics*.\n",
    "\n",
    "We'll try to relate the concepts in this case study back to page numbers in *The Art of Statistics* so that you can focus on the Python aspects of this case study. The second part (part B) of this case study will involve another, more real-world application of these tools. "
   ]
  },
  {
   "cell_type": "markdown",
   "metadata": {},
   "source": [
    "For this notebook, we will use data sampled from a known normal distribution. This allows us to compare our results with theoretical expectations."
   ]
  },
  {
   "cell_type": "markdown",
   "metadata": {},
   "source": [
    "## 2. An introduction to sampling from the normal distribution"
   ]
  },
  {
   "cell_type": "markdown",
   "metadata": {},
   "source": [
    "First, let's explore the ways we can generate the normal distribution. While there's a fair amount of interest in [sklearn](https://scikit-learn.org/stable/) within the machine learning community, you're likely to have heard of [scipy](https://docs.scipy.org/doc/scipy-0.15.1/reference/index.html) if you're coming from the sciences. For this assignment, you'll use [scipy.stats](https://docs.scipy.org/doc/scipy-0.15.1/reference/tutorial/stats.html) to complete your work. \n",
    "\n",
    "This assignment will require some digging around and getting your hands dirty (your learning is maximized that way)! You should have the research skills and the tenacity to do these tasks independently, but if you struggle, reach out to your immediate community and your mentor for help. "
   ]
  },
  {
   "cell_type": "code",
   "execution_count": 62,
   "metadata": {},
   "outputs": [],
   "source": [
    "from scipy.stats import norm\n",
    "from scipy.stats import t\n",
    "import numpy as np\n",
    "import pandas as pd\n",
    "from numpy.random import seed\n",
    "import matplotlib.pyplot as plt\n",
    "import scipy "
   ]
  },
  {
   "cell_type": "markdown",
   "metadata": {},
   "source": [
    "__Q1:__ Call up the documentation for the `norm` function imported above. (Hint: that documentation is [here](https://docs.scipy.org/doc/scipy/reference/generated/scipy.stats.norm.html)). What is the second listed method?"
   ]
  },
  {
   "cell_type": "markdown",
   "metadata": {},
   "source": [
    "__A:__ The second listed method .pdf(x, loc = __, scale = __) )evaulates the probability distribution fuinction for the normal distribution (evaluated at x given mean 0 and standard deviation 1)"
   ]
  },
  {
   "cell_type": "markdown",
   "metadata": {},
   "source": [
    "__Q2:__ Use the method that generates random variates to draw five samples from the standard normal distribution. "
   ]
  },
  {
   "cell_type": "markdown",
   "metadata": {},
   "source": [
    "__A:__ to draw from the normal distribution 5 times we do:\n",
    "norm.rvs(size = 5)"
   ]
  },
  {
   "cell_type": "code",
   "execution_count": 19,
   "metadata": {},
   "outputs": [],
   "source": [
    "seed(47)\n",
    "# draw five samples here\n",
    "samples = norm.rvs(size = 5)"
   ]
  },
  {
   "cell_type": "code",
   "execution_count": 20,
   "metadata": {},
   "outputs": [
    {
     "data": {
      "text/plain": [
       "array([-0.84800948,  1.30590636,  0.92420797,  0.6404118 , -1.05473698])"
      ]
     },
     "execution_count": 20,
     "metadata": {},
     "output_type": "execute_result"
    }
   ],
   "source": [
    "samples"
   ]
  },
  {
   "cell_type": "markdown",
   "metadata": {},
   "source": [
    "__Q3:__ What is the mean of this sample? Is it exactly equal to the value you expected? Hint: the sample was drawn from the standard normal distribution. If you want a reminder of the properties of this distribution, check out p. 85 of *AoS*. "
   ]
  },
  {
   "cell_type": "code",
   "execution_count": 21,
   "metadata": {},
   "outputs": [
    {
     "name": "stdout",
     "output_type": "stream",
     "text": [
      "0.19355593334131074\n"
     ]
    }
   ],
   "source": [
    "sample_mean = np.mean(samples)\n",
    "print(sample_mean)"
   ]
  },
  {
   "cell_type": "markdown",
   "metadata": {},
   "source": [
    "__A:__ the sample mean is ~ 0.19. The underlying distribution has population mean at 0, however given the small sample size it is not unreasonable for the sample mean to deviate considerably from the mean of the underlying distribution."
   ]
  },
  {
   "cell_type": "markdown",
   "metadata": {},
   "source": [
    "__Q4:__ What is the standard deviation of these numbers? Calculate this manually here as $\\sqrt{\\frac{\\sum_i(x_i - \\bar{x})^2}{n}}$ (This is just the definition of **standard deviation** given by Professor Spiegelhalter on p.403 of *AoS*). Hint: np.sqrt() and np.sum() will be useful here and remember that numPy supports [broadcasting](https://docs.scipy.org/doc/numpy/user/basics.broadcasting.html)."
   ]
  },
  {
   "cell_type": "markdown",
   "metadata": {},
   "source": [
    "__A:__"
   ]
  },
  {
   "cell_type": "code",
   "execution_count": 22,
   "metadata": {},
   "outputs": [
    {
     "data": {
      "text/plain": [
       "0.9606195639478641"
      ]
     },
     "execution_count": 22,
     "metadata": {},
     "output_type": "execute_result"
    }
   ],
   "source": [
    "np.sqrt((np.sum( (samples - sample_mean)**2 ) ) / len(samples))"
   ]
  },
  {
   "cell_type": "markdown",
   "metadata": {},
   "source": [
    "Here we have calculated the actual standard deviation of a small data set (of size 5). But in this case, this small data set is actually a sample from our larger (infinite) population. In this case, the population is infinite because we could keep drawing our normal random variates until our computers die! \n",
    "\n",
    "In general, the sample mean we calculate will not be equal to the population mean (as we saw above). A consequence of this is that the sum of squares of the deviations from the _population_ mean will be bigger than the sum of squares of the deviations from the _sample_ mean. In other words, the sum of squares of the deviations from the _sample_ mean is too small to give an unbiased estimate of the _population_ variance. An example of this effect is given [here](https://en.wikipedia.org/wiki/Bessel%27s_correction#Source_of_bias). Scaling our estimate of the variance by the factor $n/(n-1)$ gives an unbiased estimator of the population variance. This factor is known as [Bessel's correction](https://en.wikipedia.org/wiki/Bessel%27s_correction). The consequence of this is that the $n$ in the denominator is replaced by $n-1$.\n",
    "\n",
    "You can see Bessel's correction reflected in Professor Spiegelhalter's definition of **variance** on p. 405 of *AoS*.\n",
    "\n",
    "__Q5:__ If all we had to go on was our five samples, what would be our best estimate of the population standard deviation? Use Bessel's correction ($n-1$ in the denominator), thus $\\sqrt{\\frac{\\sum_i(x_i - \\bar{x})^2}{n-1}}$."
   ]
  },
  {
   "cell_type": "markdown",
   "metadata": {},
   "source": [
    "__A:__"
   ]
  },
  {
   "cell_type": "code",
   "execution_count": 29,
   "metadata": {},
   "outputs": [
    {
     "data": {
      "text/plain": [
       "1.0740053227518152"
      ]
     },
     "execution_count": 29,
     "metadata": {},
     "output_type": "execute_result"
    }
   ],
   "source": [
    "np.sqrt((np.sum( (samples - sample_mean)**2 ) ) / (len(samples) - 1) )"
   ]
  },
  {
   "cell_type": "markdown",
   "metadata": {},
   "source": [
    "__Q6:__ Now use numpy's std function to calculate the standard deviation of our random samples. Which of the above standard deviations did it return?"
   ]
  },
  {
   "cell_type": "markdown",
   "metadata": {},
   "source": [
    "__A:__"
   ]
  },
  {
   "cell_type": "code",
   "execution_count": 24,
   "metadata": {},
   "outputs": [
    {
     "data": {
      "text/plain": [
       "0.9606195639478641"
      ]
     },
     "execution_count": 24,
     "metadata": {},
     "output_type": "execute_result"
    }
   ],
   "source": [
    "np.std(samples)"
   ]
  },
  {
   "cell_type": "markdown",
   "metadata": {},
   "source": [
    "Clearly returns the biased estimator of the standard deviation by default."
   ]
  },
  {
   "cell_type": "markdown",
   "metadata": {},
   "source": [
    "__Q7:__ Consult the documentation for np.std() to see how to apply the correction for estimating the population parameter and verify this produces the expected result."
   ]
  },
  {
   "cell_type": "markdown",
   "metadata": {},
   "source": [
    "__A:__ the *ddof = 1* argument does what we need to get the unbiased estimate for the variance/std"
   ]
  },
  {
   "cell_type": "code",
   "execution_count": 27,
   "metadata": {},
   "outputs": [
    {
     "data": {
      "text/plain": [
       "1.0740053227518152"
      ]
     },
     "execution_count": 27,
     "metadata": {},
     "output_type": "execute_result"
    }
   ],
   "source": [
    "unbiasedstd = np.std(samples, ddof = 1)\n",
    "unbiasedstd"
   ]
  },
  {
   "cell_type": "markdown",
   "metadata": {},
   "source": [
    "### Summary of section"
   ]
  },
  {
   "cell_type": "markdown",
   "metadata": {},
   "source": [
    "In this section, you've been introduced to the scipy.stats package and used it to draw a small sample from the standard normal distribution. You've calculated the average (the mean) of this sample and seen that this is not exactly equal to the expected population parameter (which we know because we're generating the random variates from a specific, known distribution). You've been introduced to two ways of calculating the standard deviation; one uses $n$ in the denominator and the other uses $n-1$ (Bessel's correction). You've also seen which of these calculations np.std() performs by default and how to get it to generate the other."
   ]
  },
  {
   "cell_type": "markdown",
   "metadata": {},
   "source": [
    "You use $n$ as the denominator if you want to calculate the standard deviation of a sequence of numbers. You use $n-1$ if you are using this sequence of numbers to estimate the population parameter. This brings us to some terminology that can be a little confusing.\n",
    "\n",
    "The population parameter is traditionally written as $\\sigma$ and the sample statistic as $s$. Rather unhelpfully, $s$ is also called the sample standard deviation (using $n-1$) whereas the standard deviation of the sample uses $n$. That's right, we have the sample standard deviation and the standard deviation of the sample and they're not the same thing!\n",
    "\n",
    "The sample standard deviation\n",
    "\\begin{equation}\n",
    "s = \\sqrt{\\frac{\\sum_i(x_i - \\bar{x})^2}{n-1}} \\approx \\sigma,\n",
    "\\end{equation}\n",
    "is our best (unbiased) estimate of the population parameter ($\\sigma$).\n",
    "\n",
    "If your dataset _is_ your entire population, you simply want to calculate the population parameter, $\\sigma$, via\n",
    "\\begin{equation}\n",
    "\\sigma = \\sqrt{\\frac{\\sum_i(x_i - \\bar{x})^2}{n}}\n",
    "\\end{equation}\n",
    "as you have complete, full knowledge of your population. In other words, your sample _is_ your population. It's worth noting that we're dealing with what Professor Spiegehalter describes on p. 92 of *AoS* as a **metaphorical population**: we have all the data, and we act as if the data-point is taken from a population at random. We can think of this population as an imaginary space of possibilities. \n",
    "\n",
    "If, however, you have sampled _from_ your population, you only have partial knowledge of the state of your population. In this case, the standard deviation of your sample is not an unbiased estimate of the standard deviation of the population, in which case you seek to estimate that population parameter via the sample standard deviation, which uses the $n-1$ denominator."
   ]
  },
  {
   "cell_type": "markdown",
   "metadata": {},
   "source": [
    "Great work so far! Now let's dive deeper."
   ]
  },
  {
   "cell_type": "markdown",
   "metadata": {},
   "source": [
    "## 3. Sampling distributions"
   ]
  },
  {
   "cell_type": "markdown",
   "metadata": {},
   "source": [
    "So far we've been dealing with the concept of taking a sample from a population to infer the population parameters. One statistic we calculated for a sample was the mean. As our samples will be expected to vary from one draw to another, so will our sample statistics. If we were to perform repeat draws of size $n$ and calculate the mean of each, we would expect to obtain a distribution of values. This is the sampling distribution of the mean. **The Central Limit Theorem (CLT)** tells us that such a distribution will approach a normal distribution as $n$ increases (the intuitions behind the CLT are covered in full on p. 236 of *AoS*). For the sampling distribution of the mean, the standard deviation of this distribution is given by\n",
    "\n",
    "\\begin{equation}\n",
    "\\sigma_{mean} = \\frac{\\sigma}{\\sqrt n}\n",
    "\\end{equation}\n",
    "\n",
    "where $\\sigma_{mean}$ is the standard deviation of the sampling distribution of the mean and $\\sigma$ is the standard deviation of the population (the population parameter)."
   ]
  },
  {
   "cell_type": "markdown",
   "metadata": {},
   "source": [
    "This is important because typically we are dealing with samples from populations and all we know about the population is what we see in the sample. From this sample, we want to make inferences about the population. We may do this, for example, by looking at the histogram of the values and by calculating the mean and standard deviation (as estimates of the population parameters), and so we are intrinsically interested in how these quantities vary across samples. \n",
    "\n",
    "In other words, now that we've taken one sample of size $n$ and made some claims about the general population, what if we were to take another sample of size $n$? Would we get the same result? Would we make the same claims about the general population? This brings us to a fundamental question: _when we make some inference about a population based on our sample, how confident can we be that we've got it 'right'?_\n",
    "\n",
    "We need to think about **estimates and confidence intervals**: those concepts covered in Chapter 7, p. 189, of *AoS*."
   ]
  },
  {
   "cell_type": "markdown",
   "metadata": {},
   "source": [
    "Now, the standard normal distribution (with its variance equal to its standard deviation of one) would not be a great illustration of a key point. Instead, let's imagine we live in a town of 50,000 people and we know the height of everyone in this town. We will have 50,000 numbers that tell us everything about our population. We'll simulate these numbers now and put ourselves in one particular town, called 'town 47', where the population mean height is 172 cm and population standard deviation is 5 cm."
   ]
  },
  {
   "cell_type": "code",
   "execution_count": 30,
   "metadata": {},
   "outputs": [],
   "source": [
    "seed(47)\n",
    "pop_heights = norm.rvs(172, 5, size=50000)"
   ]
  },
  {
   "cell_type": "code",
   "execution_count": 31,
   "metadata": {},
   "outputs": [
    {
     "data": {
      "image/png": "[encoded data removed]",
      "text/plain": [
       "<Figure size 432x288 with 1 Axes>"
      ]
     },
     "metadata": {
      "needs_background": "light"
     },
     "output_type": "display_data"
    }
   ],
   "source": [
    "_ = plt.hist(pop_heights, bins=30)\n",
    "_ = plt.xlabel('height (cm)')\n",
    "_ = plt.ylabel('number of people')\n",
    "_ = plt.title('Distribution of heights in entire town population')\n",
    "_ = plt.axvline(172, color='r')\n",
    "_ = plt.axvline(172+5, color='r', linestyle='--')\n",
    "_ = plt.axvline(172-5, color='r', linestyle='--')\n",
    "_ = plt.axvline(172+10, color='r', linestyle='-.')\n",
    "_ = plt.axvline(172-10, color='r', linestyle='-.')"
   ]
  },
  {
   "cell_type": "markdown",
   "metadata": {},
   "source": [
    "Now, 50,000 people is rather a lot to chase after with a tape measure. If all you want to know is the average height of the townsfolk, then can you just go out and measure a sample to get a pretty good estimate of the average height?"
   ]
  },
  {
   "cell_type": "code",
   "execution_count": 33,
   "metadata": {},
   "outputs": [],
   "source": [
    "def townsfolk_sampler(n):\n",
    "    return np.random.choice(pop_heights, n)"
   ]
  },
  {
   "cell_type": "markdown",
   "metadata": {},
   "source": [
    "Let's say you go out one day and randomly sample 10 people to measure."
   ]
  },
  {
   "cell_type": "code",
   "execution_count": 34,
   "metadata": {},
   "outputs": [],
   "source": [
    "seed(47)\n",
    "daily_sample1 = townsfolk_sampler(10)"
   ]
  },
  {
   "cell_type": "code",
   "execution_count": 35,
   "metadata": {},
   "outputs": [
    {
     "data": {
      "image/png": "[encoded data removed]",
      "text/plain": [
       "<Figure size 432x288 with 1 Axes>"
      ]
     },
     "metadata": {
      "needs_background": "light"
     },
     "output_type": "display_data"
    }
   ],
   "source": [
    "_ = plt.hist(daily_sample1, bins=10)\n",
    "_ = plt.xlabel('height (cm)')\n",
    "_ = plt.ylabel('number of people')\n",
    "_ = plt.title('Distribution of heights in sample size 10')"
   ]
  },
  {
   "cell_type": "markdown",
   "metadata": {},
   "source": [
    "The sample distribution doesn't resemble what we take the population distribution to be. What do we get for the mean?"
   ]
  },
  {
   "cell_type": "code",
   "execution_count": 36,
   "metadata": {},
   "outputs": [
    {
     "data": {
      "text/plain": [
       "173.47911444163503"
      ]
     },
     "execution_count": 36,
     "metadata": {},
     "output_type": "execute_result"
    }
   ],
   "source": [
    "np.mean(daily_sample1)"
   ]
  },
  {
   "cell_type": "markdown",
   "metadata": {},
   "source": [
    "And if we went out and repeated this experiment?"
   ]
  },
  {
   "cell_type": "code",
   "execution_count": 37,
   "metadata": {},
   "outputs": [],
   "source": [
    "daily_sample2 = townsfolk_sampler(10)"
   ]
  },
  {
   "cell_type": "code",
   "execution_count": 38,
   "metadata": {},
   "outputs": [
    {
     "data": {
      "text/plain": [
       "173.7317666636263"
      ]
     },
     "execution_count": 38,
     "metadata": {},
     "output_type": "execute_result"
    }
   ],
   "source": [
    "np.mean(daily_sample2)"
   ]
  },
  {
   "cell_type": "markdown",
   "metadata": {},
   "source": [
    "__Q8:__ Simulate performing this random trial every day for a year, calculating the mean of each daily sample of 10, and plot the resultant sampling distribution of the mean."
   ]
  },
  {
   "cell_type": "markdown",
   "metadata": {},
   "source": [
    "__A:__"
   ]
  },
  {
   "cell_type": "code",
   "execution_count": 41,
   "metadata": {},
   "outputs": [
    {
     "data": {
      "text/plain": [
       "[170.6960612758563,\n",
       " 170.43922707270784,\n",
       " 173.04791260122778,\n",
       " 170.056437481425,\n",
       " 173.64619368256777,\n",
       " 172.3449589640333,\n",
       " 173.805650322271,\n",
       " 173.1883917881697,\n",
       " 172.62088059001496,\n",
       " 172.89939860343995,\n",
       " 171.8468264428882,\n",
       " 170.6822892181209,\n",
       " 176.49675838373042,\n",
       " 172.37283014416488,\n",
       " 172.10551649974528,\n",
       " 171.38230922560504,\n",
       " 170.39959116344335,\n",
       " 172.8562331674156,\n",
       " 169.36185785300663,\n",
       " 170.9399632137212,\n",
       " 171.27098277198462,\n",
       " 174.05530863091016,\n",
       " 174.48956313771137,\n",
       " 171.26657277039914,\n",
       " 171.85932941226366,\n",
       " 176.17478558464558,\n",
       " 173.03213487119928,\n",
       " 171.12941155314581,\n",
       " 174.2359313932122,\n",
       " 172.06801765779082,\n",
       " 169.7709496579064,\n",
       " 175.52073750923017,\n",
       " 171.37604119351096,\n",
       " 168.78669428540067,\n",
       " 173.82893735946988,\n",
       " 171.40579186232702,\n",
       " 172.91674435129724,\n",
       " 173.0397926687752,\n",
       " 172.50529989745237,\n",
       " 171.058966465012,\n",
       " 168.78828957696436,\n",
       " 171.76346795373973,\n",
       " 170.3188483349238,\n",
       " 170.14859107391905,\n",
       " 170.91152972186558,\n",
       " 169.98596534421932,\n",
       " 172.16560225256458,\n",
       " 172.43199611788089,\n",
       " 174.34622768262642,\n",
       " 174.89511328149734,\n",
       " 171.96537934127838,\n",
       " 173.97913796441486,\n",
       " 171.3386672200848,\n",
       " 171.77771598779674,\n",
       " 171.67867745771247,\n",
       " 174.63548076535716,\n",
       " 172.9604755025615,\n",
       " 172.39792462338028,\n",
       " 170.67088848901238,\n",
       " 173.36353725041877,\n",
       " 171.72246156008967,\n",
       " 171.06244472905044,\n",
       " 169.7515937282509,\n",
       " 173.1493564944539,\n",
       " 173.40339958858178,\n",
       " 169.08489236209073,\n",
       " 171.52647515580958,\n",
       " 172.51690328218817,\n",
       " 172.92813415671213,\n",
       " 169.35430854206112,\n",
       " 168.6845805655018,\n",
       " 172.77599437022576,\n",
       " 170.49007990404638,\n",
       " 172.41130600750293,\n",
       " 174.80810038177623,\n",
       " 170.6699390132769,\n",
       " 170.56305974791616,\n",
       " 171.2580025425983,\n",
       " 174.40174978602462,\n",
       " 172.08755481064583,\n",
       " 176.1447142660425,\n",
       " 170.55386547572175,\n",
       " 170.3538843917456,\n",
       " 172.41765843892998,\n",
       " 170.48528459539995,\n",
       " 174.249538917461,\n",
       " 171.26713554826685,\n",
       " 172.1144803402751,\n",
       " 172.35570449751293,\n",
       " 173.00826705759977,\n",
       " 170.029268847281,\n",
       " 173.99942047905114,\n",
       " 171.0175828121557,\n",
       " 172.07121369224365,\n",
       " 170.09415151876613,\n",
       " 172.50364170643326,\n",
       " 171.68747516336262,\n",
       " 174.07210043210893,\n",
       " 171.83676090597552,\n",
       " 172.0257439437478,\n",
       " 172.306003832542,\n",
       " 171.7747083589213,\n",
       " 173.49366426236162,\n",
       " 173.96009218298735,\n",
       " 171.20618839399364,\n",
       " 171.86918852020997,\n",
       " 170.59361723270962,\n",
       " 172.59138330135127,\n",
       " 173.03992833149897,\n",
       " 171.8653099328576,\n",
       " 171.09532916846462,\n",
       " 170.2533915414954,\n",
       " 172.38178763189518,\n",
       " 173.34106081797276,\n",
       " 169.40570172821558,\n",
       " 171.29777164201926,\n",
       " 170.56676442829666,\n",
       " 173.4431986101195,\n",
       " 171.5559495839138,\n",
       " 171.50049473777835,\n",
       " 172.56626692257387,\n",
       " 171.34214386340244,\n",
       " 170.05231108592983,\n",
       " 172.37546720063526,\n",
       " 172.0954027849649,\n",
       " 173.914172429379,\n",
       " 173.05384351847144,\n",
       " 170.09143363803727,\n",
       " 174.35129214673748,\n",
       " 173.06717298519575,\n",
       " 170.87668523592572,\n",
       " 172.47078971647997,\n",
       " 174.95066820418447,\n",
       " 173.52471012212374,\n",
       " 172.18447562206694,\n",
       " 172.3548175183028,\n",
       " 174.42078181122668,\n",
       " 168.89808131480427,\n",
       " 171.77544641031992,\n",
       " 171.66161936600093,\n",
       " 171.28024031211217,\n",
       " 171.86938594782637,\n",
       " 172.7270650439238,\n",
       " 170.71599113611356,\n",
       " 171.78703031825376,\n",
       " 173.05357208222782,\n",
       " 171.15033383908843,\n",
       " 170.8043058292358,\n",
       " 167.47973591137114,\n",
       " 170.61002389583388,\n",
       " 171.05963415628003,\n",
       " 169.5875722916483,\n",
       " 171.66067668872236,\n",
       " 171.06621157952213,\n",
       " 171.49025759475663,\n",
       " 174.89303077675115,\n",
       " 174.4284987926894,\n",
       " 170.71650592706646,\n",
       " 172.51278250394927,\n",
       " 170.20627902952265,\n",
       " 167.76314312813435,\n",
       " 170.17361045305094,\n",
       " 175.45675598743347,\n",
       " 173.3519422022461,\n",
       " 170.8187087941303,\n",
       " 172.66019295215594,\n",
       " 174.74780596536664,\n",
       " 171.78876642399857,\n",
       " 171.42241697674862,\n",
       " 171.31725706504852,\n",
       " 172.27028513482006,\n",
       " 171.98722465092447,\n",
       " 169.6497232620188,\n",
       " 170.02696029558066,\n",
       " 171.38156940989148,\n",
       " 172.3138588746081,\n",
       " 169.72809123700483,\n",
       " 171.56854566788147,\n",
       " 169.81618216406005,\n",
       " 171.50409494104116,\n",
       " 173.47052233127204,\n",
       " 171.40700213158146,\n",
       " 174.04499280554296,\n",
       " 171.00216251988596,\n",
       " 169.05395388982907,\n",
       " 173.62696945349194,\n",
       " 172.62332637021217,\n",
       " 175.46222172795,\n",
       " 169.9041533150325,\n",
       " 170.55879769832552,\n",
       " 170.66487360225844,\n",
       " 169.8615896669006,\n",
       " 172.4066641527138,\n",
       " 172.71608144305887,\n",
       " 172.2545289781135,\n",
       " 173.9338367730147,\n",
       " 171.7695386727469,\n",
       " 174.32536209366853,\n",
       " 172.7122246101647,\n",
       " 174.19681033422424,\n",
       " 172.80966015560085,\n",
       " 170.59835686913252,\n",
       " 170.99942154910747,\n",
       " 172.0868493787088,\n",
       " 174.4138128650676,\n",
       " 170.2036124562539,\n",
       " 172.2276739218085,\n",
       " 171.25445897562417,\n",
       " 173.28290998712583,\n",
       " 170.10735992898734,\n",
       " 174.50504750299905,\n",
       " 169.95981040880264,\n",
       " 173.9094462010772,\n",
       " 172.5619607452844,\n",
       " 173.53874071960212,\n",
       " 173.0186199521949,\n",
       " 171.62895424716538,\n",
       " 169.84687679102916,\n",
       " 174.77791162334555,\n",
       " 170.000405625554,\n",
       " 172.73212646695646,\n",
       " 171.4341295696622,\n",
       " 171.0884490536075,\n",
       " 171.19676734761015,\n",
       " 174.90744496260783,\n",
       " 169.9671694391536,\n",
       " 173.14194440563915,\n",
       " 173.10908540523846,\n",
       " 171.72062327685336,\n",
       " 172.23029592678228,\n",
       " 172.02746282298796,\n",
       " 173.49561596107785,\n",
       " 172.9474096540867,\n",
       " 174.43213900719468,\n",
       " 174.70716838964404,\n",
       " 172.7994810511625,\n",
       " 171.25688136080257,\n",
       " 171.88932037176792,\n",
       " 171.32572179738298,\n",
       " 169.4618534637562,\n",
       " 170.09232361892032,\n",
       " 172.07227122957408,\n",
       " 171.54191916215387,\n",
       " 170.4782379003256,\n",
       " 173.22051437864283,\n",
       " 173.4909142386869,\n",
       " 169.1098066249588,\n",
       " 170.8132566837631,\n",
       " 169.46546550342015,\n",
       " 173.86219378197575,\n",
       " 172.18238733790366,\n",
       " 170.614569774649,\n",
       " 170.73987409150317,\n",
       " 171.12022990062377,\n",
       " 169.62579721213814,\n",
       " 172.47132699917827,\n",
       " 172.9535316945224,\n",
       " 170.03649062081888,\n",
       " 172.87391539263,\n",
       " 172.39650489381415,\n",
       " 172.6664057362206,\n",
       " 172.1958371696759,\n",
       " 174.19750237964345,\n",
       " 173.18604370352918,\n",
       " 174.93676882465485,\n",
       " 170.96174114677834,\n",
       " 170.56496601232806,\n",
       " 172.3231691256429,\n",
       " 172.59510839464042,\n",
       " 167.76519568475857,\n",
       " 171.49372714846209,\n",
       " 171.02499670201843,\n",
       " 173.65679347555252,\n",
       " 171.7881542127614,\n",
       " 170.07482473299962,\n",
       " 170.86737590152399,\n",
       " 171.43124463804517,\n",
       " 172.84817065541353,\n",
       " 175.63202900810418,\n",
       " 170.8246984445256,\n",
       " 172.45068767032564,\n",
       " 173.03104976224728,\n",
       " 171.87134416306557,\n",
       " 171.4200615512504,\n",
       " 171.26092815444832,\n",
       " 172.29943072102964,\n",
       " 173.40528804486974,\n",
       " 173.2595577316531,\n",
       " 170.3661411124565,\n",
       " 171.56968723746073,\n",
       " 174.2181393095532,\n",
       " 173.6779763127382,\n",
       " 171.94530138880518,\n",
       " 174.87311427971127,\n",
       " 173.34479481306025,\n",
       " 170.94219357423566,\n",
       " 172.01281199102067,\n",
       " 171.57193870149464,\n",
       " 174.1088523163496,\n",
       " 172.44757158523277,\n",
       " 173.34764982298594,\n",
       " 171.74000754051988,\n",
       " 173.30090031589796,\n",
       " 169.0876645444215,\n",
       " 174.36397618222475,\n",
       " 172.0042788638124,\n",
       " 170.50800120354182,\n",
       " 170.18649403618377,\n",
       " 172.98677362888475,\n",
       " 168.51662111106086,\n",
       " 172.97483078435428,\n",
       " 169.91189663978267,\n",
       " 174.41026019781876,\n",
       " 170.82768749143256,\n",
       " 170.3757993217535,\n",
       " 170.64643275997938,\n",
       " 171.66409102792704,\n",
       " 172.280717437948,\n",
       " 172.50780457995432,\n",
       " 171.36382298789164,\n",
       " 172.3043921516659,\n",
       " 172.64711344139164,\n",
       " 172.67652000484696,\n",
       " 170.6396037037499,\n",
       " 171.96592485990286,\n",
       " 174.10790546079082,\n",
       " 170.82036374276018,\n",
       " 171.6176323377956,\n",
       " 171.717235090842,\n",
       " 168.88634377121545,\n",
       " 172.87952686001643,\n",
       " 172.4802784469548,\n",
       " 170.67972775215583,\n",
       " 169.48201520250586,\n",
       " 170.03385688427616,\n",
       " 167.90427006867836,\n",
       " 174.32359544772885,\n",
       " 172.15310079152314,\n",
       " 173.18410634476885,\n",
       " 172.29021427909677,\n",
       " 173.35991918177777,\n",
       " 171.7310747226099,\n",
       " 171.2493106849701,\n",
       " 171.61548051250978,\n",
       " 171.24213715338215,\n",
       " 170.4054356016825,\n",
       " 172.45905772691236,\n",
       " 174.59156458630514,\n",
       " 172.04845416017363,\n",
       " 174.3995175428898,\n",
       " 173.88584614939208,\n",
       " 170.27795748056218,\n",
       " 171.6743312617853,\n",
       " 172.00025449082793,\n",
       " 170.5208048221964,\n",
       " 172.70637171198,\n",
       " 170.24376813823164,\n",
       " 171.89176590623416,\n",
       " 172.06935813827732,\n",
       " 173.14877916329607,\n",
       " 172.47721370507765,\n",
       " 171.58600277277864,\n",
       " 174.24104870258057,\n",
       " 169.310000682252,\n",
       " 170.63709674615336]"
      ]
     },
     "execution_count": 41,
     "metadata": {},
     "output_type": "execute_result"
    }
   ],
   "source": []
  },
  {
   "cell_type": "code",
   "execution_count": 49,
   "metadata": {},
   "outputs": [],
   "source": [
    "seed(47)\n",
    "# take your samples here\n",
    "yearmean_sampling = [np.mean(townsfolk_sampler(10)) for i in range(365)]"
   ]
  },
  {
   "cell_type": "code",
   "execution_count": 50,
   "metadata": {},
   "outputs": [
    {
     "data": {
      "text/plain": [
       "(array([ 3.,  4., 13., 23., 25., 36., 32., 51., 44., 60., 33., 22., 10.,\n",
       "         6.,  3.]),\n",
       " array([167.52865966, 168.09204599, 168.65543232, 169.21881865,\n",
       "        169.78220498, 170.3455913 , 170.90897763, 171.47236396,\n",
       "        172.03575029, 172.59913662, 173.16252295, 173.72590928,\n",
       "        174.28929561, 174.85268194, 175.41606827, 175.9794546 ]),\n",
       " <BarContainer object of 15 artists>)"
      ]
     },
     "execution_count": 50,
     "metadata": {},
     "output_type": "execute_result"
    },
    {
     "data": {
      "image/png": "[encoded data removed]",
      "text/plain": [
       "<Figure size 432x288 with 1 Axes>"
      ]
     },
     "metadata": {
      "needs_background": "light"
     },
     "output_type": "display_data"
    }
   ],
   "source": [
    "plt.hist(yearmean_sampling, bins = 15)"
   ]
  },
  {
   "cell_type": "markdown",
   "metadata": {},
   "source": [
    "The above is the distribution of the means of samples of size 10 taken from our population. The Central Limit Theorem tells us the expected mean of this distribution will be equal to the population mean, and standard deviation will be $\\sigma / \\sqrt n$, which, in this case, should be approximately 1.58."
   ]
  },
  {
   "cell_type": "markdown",
   "metadata": {},
   "source": [
    "__Q9:__ Verify the above results from the CLT."
   ]
  },
  {
   "cell_type": "markdown",
   "metadata": {},
   "source": [
    "__A:__"
   ]
  },
  {
   "cell_type": "code",
   "execution_count": 54,
   "metadata": {},
   "outputs": [
    {
     "data": {
      "text/plain": [
       "1.5811388300841895"
      ]
     },
     "execution_count": 54,
     "metadata": {},
     "output_type": "execute_result"
    }
   ],
   "source": [
    "meanestimator_std = 5/np.sqrt(10)\n",
    "meanestimator_std"
   ]
  },
  {
   "cell_type": "markdown",
   "metadata": {},
   "source": [
    "Remember, in this instance, we knew our population parameters, that the average height really is 172 cm and the standard deviation is 5 cm, and we see some of our daily estimates of the population mean were as low as around 168 and some as high as 176."
   ]
  },
  {
   "cell_type": "markdown",
   "metadata": {},
   "source": [
    "__Q10:__ Repeat the above year's worth of samples but for a sample size of 50 (perhaps you had a bigger budget for conducting surveys that year)! Would you expect your distribution of sample means to be wider (more variable) or narrower (more consistent)? Compare your resultant summary statistics to those predicted by the CLT."
   ]
  },
  {
   "cell_type": "markdown",
   "metadata": {},
   "source": [
    "__A:__ The distribution on our mean estimator should be narrower."
   ]
  },
  {
   "cell_type": "code",
   "execution_count": 61,
   "metadata": {},
   "outputs": [
    {
     "data": {
      "text/plain": [
       "(array([ 5., 18., 29., 57., 70., 68., 65., 41., 10.,  2.]),\n",
       " array([170.07952859, 170.45187698, 170.82422537, 171.19657376,\n",
       "        171.56892215, 171.94127054, 172.31361893, 172.68596732,\n",
       "        173.05831571, 173.4306641 , 173.80301249]),\n",
       " <BarContainer object of 10 artists>)"
      ]
     },
     "execution_count": 61,
     "metadata": {},
     "output_type": "execute_result"
    },
    {
     "data": {
      "image/png": "[encoded data removed]",
      "text/plain": [
       "<Figure size 432x288 with 1 Axes>"
      ]
     },
     "metadata": {
      "needs_background": "light"
     },
     "output_type": "display_data"
    }
   ],
   "source": [
    "seed(47)\n",
    "# calculate daily means from the larger sample size here\n",
    "year_meansampling50 = [[np.mean(townsfolk_sampler(50)) for i in range(365)]]\n",
    "plt.hist(year_meansampling50, bins = 10)"
   ]
  },
  {
   "cell_type": "markdown",
   "metadata": {},
   "source": [
    "Yes its narrower."
   ]
  },
  {
   "cell_type": "markdown",
   "metadata": {},
   "source": [
    "What we've seen so far, then, is that we can estimate population parameters from a sample from the population, and that samples have their own distributions. Furthermore, the larger the sample size, the narrower are those sampling distributions."
   ]
  },
  {
   "cell_type": "markdown",
   "metadata": {},
   "source": [
    "### Normally testing time!"
   ]
  },
  {
   "cell_type": "markdown",
   "metadata": {},
   "source": [
    "All of the above is well and good. We've been sampling from a population we know is normally distributed, we've come to understand when to use $n$ and when to use $n-1$ in the denominator to calculate the spread of a distribution, and we've  seen the Central Limit Theorem in action for a sampling distribution. All seems very well behaved in Frequentist land. But, well, why should we really care?"
   ]
  },
  {
   "cell_type": "markdown",
   "metadata": {},
   "source": [
    "Remember, we rarely (if ever) actually know our population parameters but we still have to estimate them somehow. If we want to make inferences to conclusions like \"this observation is unusual\" or \"my population mean has changed\" then we need to have some idea of what the underlying distribution is so we can calculate relevant probabilities. In frequentist inference, we use the formulae above to deduce these population parameters. Take a moment in the next part of this assignment to refresh your understanding of how these probabilities work."
   ]
  },
  {
   "cell_type": "markdown",
   "metadata": {},
   "source": [
    "Recall some basic properties of the standard normal distribution, such as that about 68% of observations are within plus or minus 1 standard deviation of the mean. Check out the precise definition of a normal distribution on p. 394 of *AoS*. \n",
    "\n",
    "__Q11:__ Using this fact, calculate the probability of observing the value 1 or less in a single observation from the standard normal distribution. Hint: you may find it helpful to sketch the standard normal distribution (the familiar bell shape) and mark the number of standard deviations from the mean on the x-axis and shade the regions of the curve that contain certain percentages of the population."
   ]
  },
  {
   "cell_type": "markdown",
   "metadata": {},
   "source": [
    "__A:__"
   ]
  },
  {
   "cell_type": "code",
   "execution_count": 65,
   "metadata": {},
   "outputs": [
    {
     "name": "stdout",
     "output_type": "stream",
     "text": [
      "0.8413447460685435\n"
     ]
    }
   ],
   "source": [
    "\n",
    "proba = scipy.integrate.quad(norm.pdf, -np.inf, 1)[0]\n",
    "print(proba)"
   ]
  },
  {
   "cell_type": "markdown",
   "metadata": {},
   "source": [
    "Calculating this probability involved calculating the area under the curve from the value of 1 and below. To put it in mathematical terms, we need to *integrate* the probability density function. We could just add together the known areas of chunks (from -Inf to 0 and then 0 to $+\\sigma$ in the example above). One way to do this is to look up tables (literally). Fortunately, scipy has this functionality built in with the cdf() function."
   ]
  },
  {
   "cell_type": "markdown",
   "metadata": {},
   "source": [
    "__Q12:__ Use the cdf() function to answer the question above again and verify you get the same answer."
   ]
  },
  {
   "cell_type": "markdown",
   "metadata": {},
   "source": [
    "__A:__"
   ]
  },
  {
   "cell_type": "code",
   "execution_count": 82,
   "metadata": {},
   "outputs": [
    {
     "data": {
      "text/plain": [
       "0.8413447460685429"
      ]
     },
     "execution_count": 82,
     "metadata": {},
     "output_type": "execute_result"
    }
   ],
   "source": [
    "proba_cdf = norm.cdf(1)\n",
    "proba_cdf"
   ]
  },
  {
   "cell_type": "markdown",
   "metadata": {},
   "source": [
    "#### Boombah."
   ]
  },
  {
   "cell_type": "markdown",
   "metadata": {},
   "source": [
    "__Q13:__ Using our knowledge of the population parameters for our townsfolks' heights, what is the probability of selecting one person at random and their height being 177 cm or less? Calculate this using both of the approaches given above."
   ]
  },
  {
   "cell_type": "markdown",
   "metadata": {},
   "source": [
    "__A:__"
   ]
  },
  {
   "cell_type": "code",
   "execution_count": 84,
   "metadata": {},
   "outputs": [
    {
     "data": {
      "text/plain": [
       "0.8413447460685429"
      ]
     },
     "execution_count": 84,
     "metadata": {},
     "output_type": "execute_result"
    }
   ],
   "source": [
    "proba177cdf = norm.cdf(177, loc = 172, scale = 5)\n",
    "proba177cdf"
   ]
  },
  {
   "cell_type": "markdown",
   "metadata": {},
   "source": [
    "__Q14:__ Turning this question around — suppose we randomly pick one person and measure their height and find they are 2.00 m tall. How surprised should we be at this result, given what we know about the population distribution? In other words, how likely would it be to obtain a value at least as extreme as this? Express this as a probability. "
   ]
  },
  {
   "cell_type": "markdown",
   "metadata": {},
   "source": [
    "__A:__"
   ]
  },
  {
   "cell_type": "code",
   "execution_count": 73,
   "metadata": {},
   "outputs": [
    {
     "data": {
      "text/plain": [
       "1.0717590259723409e-08"
      ]
     },
     "execution_count": 73,
     "metadata": {},
     "output_type": "execute_result"
    }
   ],
   "source": [
    "p_val_2 = 1 - norm.cdf(200, loc = 172, scale = 5) #200 cm = 2 m and we are evaluating the cdf of the normal distribution w/ mean at 172 and a std of 5 at a value of 2 m\n",
    "p_val_2"
   ]
  },
  {
   "cell_type": "markdown",
   "metadata": {},
   "source": [
    "What we've just done is calculate the ***p-value*** of the observation of someone 2.00m tall (review *p*-values if you need to on p. 399 of *AoS*). We could calculate this probability by virtue of knowing the population parameters. We were then able to use the known properties of the relevant normal distribution to calculate the probability of observing a value at least as extreme as our test value."
   ]
  },
  {
   "cell_type": "markdown",
   "metadata": {},
   "source": [
    "We're about to come to a pinch, though. We've said a couple of times that we rarely, if ever, know the true population parameters; we have to estimate them from our sample and we cannot even begin to estimate the standard deviation from a single observation. \n",
    "\n",
    "This is very true and usually we have sample sizes larger than one. This means we can calculate the mean of the sample as our best estimate of the population mean and the standard deviation as our best estimate of the population standard deviation. \n",
    "\n",
    "In other words, we are now coming to deal with the sampling distributions we mentioned above as we are generally concerned with the properties of the sample means we obtain. \n",
    "\n",
    "Above, we highlighted one result from the CLT, whereby the sampling distribution (of the mean) becomes narrower and narrower with the square root of the sample size. We remind ourselves that another result from the CLT is that _even if the underlying population distribution is not normal, the sampling distribution will tend to become normal with sufficiently large sample size_. (**Check out p. 199 of AoS if you need to revise this**). This is the key driver for us 'requiring' a certain sample size, for example you may frequently see a minimum sample size of 30 stated in many places. In reality this is simply a rule of thumb; if the underlying distribution is approximately normal then your sampling distribution will already be pretty normal, but if the underlying distribution is heavily skewed then you'd want to increase your sample size."
   ]
  },
  {
   "cell_type": "markdown",
   "metadata": {},
   "source": [
    "__Q15:__ Let's now start from the position of knowing nothing about the heights of people in our town.\n",
    "* Use the random seed of 47, to randomly sample the heights of 50 townsfolk\n",
    "* Estimate the population mean using np.mean\n",
    "* Estimate the population standard deviation using np.std (remember which denominator to use!)\n",
    "* Calculate the (95%) [margin of error](https://www.statisticshowto.datasciencecentral.com/probability-and-statistics/hypothesis-testing/margin-of-error/#WhatMofE) (use the exact critial z value to 2 decimal places - [look this up](https://www.statisticshowto.datasciencecentral.com/probability-and-statistics/find-critical-values/) or use norm.ppf()) Recall that the ***margin of error*** is mentioned on p. 189 of the *AoS* and discussed in depth in that chapter). \n",
    "* Calculate the 95% Confidence Interval of the mean (***confidence intervals*** are defined on p. 385 of *AoS*) \n",
    "* Does this interval include the true population mean?"
   ]
  },
  {
   "cell_type": "markdown",
   "metadata": {},
   "source": [
    "__A:__"
   ]
  },
  {
   "cell_type": "code",
   "execution_count": 75,
   "metadata": {},
   "outputs": [],
   "source": [
    "seed(47)\n",
    "# take your sample now\n",
    "sample_that = townsfolk_sampler(50)"
   ]
  },
  {
   "cell_type": "code",
   "execution_count": 103,
   "metadata": {},
   "outputs": [
    {
     "data": {
      "text/plain": [
       "172.7815108576788"
      ]
     },
     "execution_count": 103,
     "metadata": {},
     "output_type": "execute_result"
    }
   ],
   "source": [
    "popmean = np.mean(sample_that)\n",
    "popmean"
   ]
  },
  {
   "cell_type": "code",
   "execution_count": 109,
   "metadata": {},
   "outputs": [
    {
     "data": {
      "text/plain": [
       "4.195424364433547"
      ]
     },
     "execution_count": 109,
     "metadata": {},
     "output_type": "execute_result"
    }
   ],
   "source": [
    "popstd = np.std(sample_that, ddof = 1)\n",
    "popstd"
   ]
  },
  {
   "cell_type": "code",
   "execution_count": 100,
   "metadata": {},
   "outputs": [],
   "source": [
    "def ecdf(sample):\n",
    "    n = len(sample)\n",
    "    sorted_sample = np.sort(sample)\n",
    "    xvals = sorted_sample\n",
    "    yvals = np.arange(1, len(xvals) + 1)/n\n",
    "    return xvals,yvals"
   ]
  },
  {
   "cell_type": "code",
   "execution_count": 102,
   "metadata": {},
   "outputs": [
    {
     "data": {
      "text/plain": [
       "[<matplotlib.lines.Line2D at 0x255981c7fa0>]"
      ]
     },
     "execution_count": 102,
     "metadata": {},
     "output_type": "execute_result"
    },
    {
     "data": {
      "image/png": "[encoded data removed]",
      "text/plain": [
       "<Figure size 432x288 with 1 Axes>"
      ]
     },
     "metadata": {
      "needs_background": "light"
     },
     "output_type": "display_data"
    }
   ],
   "source": [
    "x,y = ecdf(sample_that)\n",
    "plt.plot(x,y)\n",
    "plt.plot(x, norm.cdf(x, popmean, popstd) )"
   ]
  },
  {
   "cell_type": "markdown",
   "metadata": {},
   "source": [
    "##### We may not know much about the true underlying distribution but we can say, comparing the ecdf with an analytical norm cdf using the sample mean and std that this sample looks pretty normally distributed. In any case:"
   ]
  },
  {
   "cell_type": "markdown",
   "metadata": {},
   "source": [
    "#### We can produce an estimator for the standard error of the mean $$ \\hat{\\sigma}_{\\bar{x}} = \\frac{\\sigma^u_{s}}{\\sqrt{n}} \\ $$\n",
    "#### where $\\sigma^u_{s}$ is the unbiased estimator for the standard error of our sample heights."
   ]
  },
  {
   "cell_type": "code",
   "execution_count": 114,
   "metadata": {},
   "outputs": [
    {
     "data": {
      "text/plain": [
       "1.1629123030741193"
      ]
     },
     "execution_count": 114,
     "metadata": {},
     "output_type": "execute_result"
    }
   ],
   "source": [
    "SE_estimator = (1.96)*popstd/np.sqrt(50) \n",
    "# roughly about +- 2 sigma (sigma here being the stndard deviation for the distribution of the mean) about the estimator for the mean is the 95% confidence interval assuming the normal distribution\n",
    "SE_estimator"
   ]
  },
  {
   "cell_type": "markdown",
   "metadata": {},
   "source": [
    "#### The above is our margin of error implying that our 95% confidence interval on the population mean height is 172.8 +- 1.2 cm"
   ]
  },
  {
   "cell_type": "markdown",
   "metadata": {},
   "source": [
    "__Q16:__ Above, we calculated the confidence interval using the critical z value. What is the problem with this? What requirement, or requirements, are we (strictly) failing?"
   ]
  },
  {
   "cell_type": "markdown",
   "metadata": {},
   "source": [
    "Well, we don't technically know the underlying population distribution, based on our ecdf we might guess that the height is sampled from an underlying normal distribution and we may even have a decent guess already at the standard deviation and mean of the height samples. But technically we dont know whats going on at the extreme tails and more samples may reveal a different distribution with a different standard deviation that can be extracted from the current ecdf of our 50 sample size.\n",
    "\n",
    "We thus need to use the t-distribution using a 2-tail t-test at 95% confidence => t* = 2.01"
   ]
  },
  {
   "cell_type": "markdown",
   "metadata": {},
   "source": [
    "__A:__"
   ]
  },
  {
   "cell_type": "markdown",
   "metadata": {},
   "source": [
    "__Q17:__ Calculate the 95% confidence interval for the mean using the _t_ distribution. Is this wider or narrower than that based on the normal distribution above? If you're unsure, you may find this [resource](https://www.statisticshowto.datasciencecentral.com/probability-and-statistics/confidence-interval/) useful. For calculating the critical value, remember how you could calculate this for the normal distribution using norm.ppf()."
   ]
  },
  {
   "cell_type": "markdown",
   "metadata": {},
   "source": [
    "__A:__"
   ]
  },
  {
   "cell_type": "code",
   "execution_count": 117,
   "metadata": {},
   "outputs": [
    {
     "data": {
      "text/plain": [
       "1.1925784332545815"
      ]
     },
     "execution_count": 117,
     "metadata": {},
     "output_type": "execute_result"
    }
   ],
   "source": [
    "correctSE_estimator = 2.01*popstd/np.sqrt(50) \n",
    "correctSE_estimator"
   ]
  },
  {
   "cell_type": "markdown",
   "metadata": {},
   "source": [
    "Its a little larger but practically pretty much the same for this sample size and underlying distribution (as we know that is normal). "
   ]
  },
  {
   "cell_type": "markdown",
   "metadata": {},
   "source": [
    "This is slightly wider than the previous confidence interval. This reflects the greater uncertainty given that we are estimating population parameters from a sample."
   ]
  },
  {
   "cell_type": "markdown",
   "metadata": {},
   "source": [
    "## 4. Learning outcomes"
   ]
  },
  {
   "cell_type": "markdown",
   "metadata": {},
   "source": [
    "Having completed this project notebook, you now have hands-on experience:\n",
    "* sampling and calculating probabilities from a normal distribution\n",
    "* identifying the correct way to estimate the standard deviation of a population (the population parameter) from a sample\n",
    "* with sampling distribution and now know how the Central Limit Theorem applies\n",
    "* with how to calculate critical values and confidence intervals"
   ]
  },
  {
   "cell_type": "code",
   "execution_count": null,
   "metadata": {},
   "outputs": [],
   "source": []
  }
 ],
 "metadata": {
  "kernelspec": {
   "display_name": "Python 3",
   "language": "python",
   "name": "python3"
  },
  "language_info": {
   "codemirror_mode": {
    "name": "ipython",
    "version": 3
   },
   "file_extension": ".py",
   "mimetype": "text/x-python",
   "name": "python",
   "nbconvert_exporter": "python",
   "pygments_lexer": "ipython3",
   "version": "3.8.5"
  }
 },
 "nbformat": 4,
 "nbformat_minor": 2
}
